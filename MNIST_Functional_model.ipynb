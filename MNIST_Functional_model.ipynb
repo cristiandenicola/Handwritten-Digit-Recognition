{
 "cells": [
  {
   "cell_type": "code",
   "execution_count": 1,
   "metadata": {},
   "outputs": [],
   "source": [
    "import numpy as np\n",
    "import matplotlib.pyplot as plt\n",
    "import keras\n",
    "\n",
    "from keras.models import Sequential\n",
    "from keras.layers import Dense, Conv2D, MaxPool2D, Flatten, Dropout\n",
    "from keras.callbacks import EarlyStopping, ModelCheckpoint\n",
    "\n",
    "## Import del dataset\n",
    "from keras.datasets import mnist\n"
   ]
  },
  {
   "cell_type": "code",
   "execution_count": 3,
   "metadata": {},
   "outputs": [
    {
     "data": {
      "text/plain": [
       "((60000, 28, 28), (60000,), (10000, 28, 28), (10000,))"
      ]
     },
     "execution_count": 3,
     "metadata": {},
     "output_type": "execute_result"
    }
   ],
   "source": [
    "(X_train, y_train), (X_test, y_test) = mnist.load_data()\n",
    "\n",
    "# Salva i dati di addestramento in file CSV\n",
    "X_train_flat = X_train.reshape(X_train.shape[0], -1)  # Appiattisci le immagini\n",
    "\n",
    "X_train.shape, y_train.shape, X_test.shape, y_test.shape"
   ]
  },
  {
   "cell_type": "code",
   "execution_count": 4,
   "metadata": {},
   "outputs": [],
   "source": [
    "# Normalizzazione e ridimensionamento delle immagini\n",
    "X_train = X_train.reshape(-1, 28, 28, 1).astype('float32') / 255.0\n",
    "X_test = X_test.reshape(-1, 28, 28, 1).astype('float32') / 255.0\n",
    "\n",
    "# Converti le etichette in one-hot encoding\n",
    "y_train_encoded = keras.utils.to_categorical(y_train, num_classes=10)\n",
    "y_test_encoded = keras.utils.to_categorical(y_test, num_classes=10)"
   ]
  },
  {
   "cell_type": "code",
   "execution_count": 5,
   "metadata": {},
   "outputs": [
    {
     "data": {
      "text/plain": [
       "(60000, 28, 28, 1)"
      ]
     },
     "execution_count": 5,
     "metadata": {},
     "output_type": "execute_result"
    }
   ],
   "source": [
    "X_train.shape"
   ]
  },
  {
   "cell_type": "code",
   "execution_count": 6,
   "metadata": {},
   "outputs": [],
   "source": [
    "# Definizione dell'input\n",
    "inputs = keras.layers.Input(shape=(28, 28, 1))\n",
    "\n",
    "# Definizione del flusso dei dati\n",
    "x = Conv2D(32, (3, 3), activation='relu')(inputs)\n",
    "x = MaxPool2D(pool_size=(2, 2))(x)\n",
    "\n",
    "x = Conv2D(64, (3, 3), activation='relu')(x)\n",
    "x = MaxPool2D(pool_size=(2, 2))(x)\n",
    "\n",
    "x = Flatten()(x)\n",
    "x = Dropout(0.25)(x)\n",
    "\n",
    "outputs = Dense(10, activation='softmax')(x)"
   ]
  },
  {
   "cell_type": "code",
   "execution_count": 7,
   "metadata": {},
   "outputs": [],
   "source": [
    "## Aggiunta Callbacks\n",
    "# Funzioni di monitoraggio che possono intervenire durante il training del modello\n",
    "# Earlystopping - guarda che il valore ddella metrica 'val_acc' dell'epoche precedente non scenda sotto il delta\n",
    "es = EarlyStopping(monitor = 'val_accuracy', min_delta = 0.01, patience = 4, verbose = 1 )\n",
    "\n",
    "# Model checkpoint -salva il modello ogni volta che viene ottenuta un accuratezza migliore di quella precedente\n",
    "mc = ModelCheckpoint(\"./bestAcc_model.h5\", monitor = \"val_accuracy\", verbose = 1, save_best_only = True)\n",
    "\n",
    "cb = [es, mc]"
   ]
  },
  {
   "cell_type": "code",
   "execution_count": 8,
   "metadata": {},
   "outputs": [
    {
     "name": "stdout",
     "output_type": "stream",
     "text": [
      "Epoch 1/25\n",
      "1311/1313 [============================>.] - ETA: 0s - loss: 0.2198 - accuracy: 0.9328\n",
      "Epoch 1: val_accuracy improved from -inf to 0.97744, saving model to .\\bestAcc_model.h5\n",
      "1313/1313 [==============================] - 22s 16ms/step - loss: 0.2199 - accuracy: 0.9328 - val_loss: 0.0811 - val_accuracy: 0.9774\n",
      "Epoch 2/25\n",
      "   6/1313 [..............................] - ETA: 31s - loss: 0.0861 - accuracy: 0.9531"
     ]
    },
    {
     "name": "stderr",
     "output_type": "stream",
     "text": [
      "c:\\Users\\denicola\\AppData\\Local\\Programs\\Python\\Python311\\Lib\\site-packages\\keras\\src\\engine\\training.py:3000: UserWarning: You are saving your model as an HDF5 file via `model.save()`. This file format is considered legacy. We recommend using instead the native Keras format, e.g. `model.save('my_model.keras')`.\n",
      "  saving_api.save_model(\n"
     ]
    },
    {
     "name": "stdout",
     "output_type": "stream",
     "text": [
      "1312/1313 [============================>.] - ETA: 0s - loss: 0.0761 - accuracy: 0.9758\n",
      "Epoch 2: val_accuracy improved from 0.97744 to 0.98072, saving model to .\\bestAcc_model.h5\n",
      "1313/1313 [==============================] - 24s 18ms/step - loss: 0.0761 - accuracy: 0.9758 - val_loss: 0.0669 - val_accuracy: 0.9807\n",
      "Epoch 3/25\n",
      "1309/1313 [============================>.] - ETA: 0s - loss: 0.0557 - accuracy: 0.9829\n",
      "Epoch 3: val_accuracy improved from 0.98072 to 0.98511, saving model to .\\bestAcc_model.h5\n",
      "1313/1313 [==============================] - 22s 17ms/step - loss: 0.0557 - accuracy: 0.9829 - val_loss: 0.0497 - val_accuracy: 0.9851\n",
      "Epoch 4/25\n",
      "1310/1313 [============================>.] - ETA: 0s - loss: 0.0460 - accuracy: 0.9859\n",
      "Epoch 4: val_accuracy improved from 0.98511 to 0.98594, saving model to .\\bestAcc_model.h5\n",
      "1313/1313 [==============================] - 21s 16ms/step - loss: 0.0460 - accuracy: 0.9859 - val_loss: 0.0470 - val_accuracy: 0.9859\n",
      "Epoch 5/25\n",
      "1307/1313 [============================>.] - ETA: 0s - loss: 0.0389 - accuracy: 0.9875\n",
      "Epoch 5: val_accuracy improved from 0.98594 to 0.98678, saving model to .\\bestAcc_model.h5\n",
      "1313/1313 [==============================] - 22s 17ms/step - loss: 0.0391 - accuracy: 0.9875 - val_loss: 0.0433 - val_accuracy: 0.9868\n",
      "Epoch 5: early stopping\n"
     ]
    }
   ],
   "source": [
    "# Creazione del modello funzionale\n",
    "model = keras.Model(inputs=inputs, outputs=outputs)\n",
    "\n",
    "# Compilazione e addestramento del modello\n",
    "model.compile(loss='categorical_crossentropy', optimizer='adam', metrics=['accuracy'])\n",
    "history = model.fit(X_train, y_train_encoded, epochs=25, validation_split=0.3, callbacks=cb)"
   ]
  },
  {
   "cell_type": "code",
   "execution_count": 9,
   "metadata": {},
   "outputs": [],
   "source": [
    "model_S = keras.models.load_model(\"C://Users//denicola//Documents//Handwritten Digit Recognition//bestAcc_model.h5\")"
   ]
  },
  {
   "cell_type": "code",
   "execution_count": 10,
   "metadata": {},
   "outputs": [
    {
     "name": "stdout",
     "output_type": "stream",
     "text": [
      "313/313 [==============================] - 1s 4ms/step - loss: 0.0349 - accuracy: 0.9886\n",
      "Model accuracy: 0.9886000156402588\n"
     ]
    }
   ],
   "source": [
    "score = model_S.evaluate(X_test, y_test_encoded)\n",
    "print(f\"Model accuracy: {score[1]}\")"
   ]
  }
 ],
 "metadata": {
  "kernelspec": {
   "display_name": "Python 3",
   "language": "python",
   "name": "python3"
  },
  "language_info": {
   "codemirror_mode": {
    "name": "ipython",
    "version": 3
   },
   "file_extension": ".py",
   "mimetype": "text/x-python",
   "name": "python",
   "nbconvert_exporter": "python",
   "pygments_lexer": "ipython3",
   "version": "3.11.4"
  },
  "orig_nbformat": 4
 },
 "nbformat": 4,
 "nbformat_minor": 2
}
