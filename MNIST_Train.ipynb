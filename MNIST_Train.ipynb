{
 "cells": [
  {
   "cell_type": "code",
   "execution_count": 83,
   "metadata": {},
   "outputs": [],
   "source": [
    "import numpy as np\n",
    "import matplotlib.pyplot as plt\n",
    "import keras\n",
    "\n",
    "from keras.models import Sequential\n",
    "from keras.layers import Dense, Conv2D, MaxPool2D, Flatten, Dropout\n",
    "from keras.callbacks import EarlyStopping, ModelCheckpoint\n",
    "\n",
    "## Import del dataset\n",
    "from keras.datasets import mnist"
   ]
  },
  {
   "cell_type": "code",
   "execution_count": 84,
   "metadata": {},
   "outputs": [
    {
     "data": {
      "text/plain": [
       "((60000, 28, 28), (60000,), (10000, 28, 28), (10000,))"
      ]
     },
     "execution_count": 84,
     "metadata": {},
     "output_type": "execute_result"
    }
   ],
   "source": [
    "(X_train, y_train), (X_test, y_test) = mnist.load_data()\n",
    "\n",
    "X_train.shape, y_train.shape, X_test.shape, y_test.shape"
   ]
  },
  {
   "cell_type": "code",
   "execution_count": 53,
   "metadata": {},
   "outputs": [],
   "source": [
    "## Funzione di stampa delle immagini del dataset per provarlo\n",
    "# Non utile al progetto ma come test si\n",
    "def plot_input_img(i):\n",
    "    plt.imshow(X_train[i], cmap='binary')\n",
    "    plt.title(y_train[i])\n",
    "    plt.show()"
   ]
  },
  {
   "cell_type": "code",
   "execution_count": null,
   "metadata": {},
   "outputs": [],
   "source": [
    "for i in range(10):\n",
    "    plot_input_img(i)"
   ]
  },
  {
   "cell_type": "code",
   "execution_count": 85,
   "metadata": {},
   "outputs": [],
   "source": [
    "## Pre processing delle immagini\n",
    "# Normalizzazione delle immagini in floating point nell'intervallo [0,1]\n",
    "X_train = X_train.astype(np.float32)/255\n",
    "X_test = X_test.astype(np.float32)/255\n",
    "\n",
    "# REshape della dimensione delle immagini, aggiungo un asse per ottenere (28,28,1)\n",
    "X_train = np.expand_dims(X_train, -1)\n",
    "X_test = np.expand_dims(X_test, -1)\n",
    "\n",
    "# Trasformo le etichette delle classi in una rappresentazione 'One hot encoding'\n",
    "# Assegno un vettore binario unico per ogni classe, dove un elemento del vettore è 1 (rappresenta la classe corretta) e gli altri sono 0\n",
    "y_train = keras.utils.to_categorical(y_train)\n",
    "y_test = keras.utils.to_categorical(y_test)\n"
   ]
  },
  {
   "cell_type": "code",
   "execution_count": 86,
   "metadata": {},
   "outputs": [
    {
     "data": {
      "text/plain": [
       "(60000, 28, 28, 1)"
      ]
     },
     "execution_count": 86,
     "metadata": {},
     "output_type": "execute_result"
    }
   ],
   "source": [
    "X_train.shape"
   ]
  },
  {
   "cell_type": "code",
   "execution_count": 87,
   "metadata": {},
   "outputs": [],
   "source": [
    "model = Sequential()\n",
    "\n",
    "# Aggiunta primo strato di convoluzione e max pooling\n",
    "model.add(Conv2D(32, (3,3), input_shape = (28,28,1), activation = 'relu'))\n",
    "model.add(MaxPool2D(pool_size=(2, 2)))\n",
    "\n",
    "# Aggiunta secondo strato di convoluzione, questa volta con 64 filtri 3x3 + altro max pooling\n",
    "model.add(Conv2D(64, (3,3), activation = 'relu'))\n",
    "model.add(MaxPool2D(pool_size = (2, 2)))\n",
    "\n",
    "# Strato di flatten per convertire dati bidimensionali in vettoriale piano\n",
    "model.add(Flatten())\n",
    "\n",
    "# Aggiunta dropout con prob a 25% per prevenire overfitting\n",
    "model.add(Dropout(0.25))\n",
    "\n",
    "model.add(Dense(10, activation = 'softmax'))"
   ]
  },
  {
   "cell_type": "code",
   "execution_count": 88,
   "metadata": {},
   "outputs": [
    {
     "name": "stdout",
     "output_type": "stream",
     "text": [
      "Model: \"sequential_3\"\n",
      "_________________________________________________________________\n",
      " Layer (type)                Output Shape              Param #   \n",
      "=================================================================\n",
      " conv2d_6 (Conv2D)           (None, 26, 26, 32)        320       \n",
      "                                                                 \n",
      " max_pooling2d_6 (MaxPoolin  (None, 13, 13, 32)        0         \n",
      " g2D)                                                            \n",
      "                                                                 \n",
      " conv2d_7 (Conv2D)           (None, 11, 11, 64)        18496     \n",
      "                                                                 \n",
      " max_pooling2d_7 (MaxPoolin  (None, 5, 5, 64)          0         \n",
      " g2D)                                                            \n",
      "                                                                 \n",
      " flatten_3 (Flatten)         (None, 1600)              0         \n",
      "                                                                 \n",
      " dropout_3 (Dropout)         (None, 1600)              0         \n",
      "                                                                 \n",
      " dense_3 (Dense)             (None, 10)                16010     \n",
      "                                                                 \n",
      "=================================================================\n",
      "Total params: 34826 (136.04 KB)\n",
      "Trainable params: 34826 (136.04 KB)\n",
      "Non-trainable params: 0 (0.00 Byte)\n",
      "_________________________________________________________________\n"
     ]
    }
   ],
   "source": [
    "model.summary()"
   ]
  },
  {
   "cell_type": "code",
   "execution_count": 89,
   "metadata": {},
   "outputs": [],
   "source": [
    "# Compilazione modello\n",
    "model.compile(optimizer = 'adam', loss = keras.losses.categorical_crossentropy, metrics = ['accuracy'])"
   ]
  },
  {
   "cell_type": "code",
   "execution_count": 90,
   "metadata": {},
   "outputs": [],
   "source": [
    "## Aggiunta Callbacks\n",
    "# Funzioni di monitoraggio che possono intervenire durante il training del modello\n",
    "# Earlystopping - guarda che il valore ddella metrica 'val_acc' dell'epoche precedente non scenda sotto il delta\n",
    "es = EarlyStopping(monitor = 'val_accuracy', min_delta = 0.01, patience = 4, verbose = 1 )\n",
    "\n",
    "# Model checkpoint -salva il modello ogni volta che viene ottenuta un accuratezza migliore di quella precedente\n",
    "mc = ModelCheckpoint(\"./bestAcc_model.h5\", monitor = \"val_accuracy\", verbose = 1, save_best_only = True)\n",
    "\n",
    "cb = [es, mc]"
   ]
  },
  {
   "cell_type": "markdown",
   "metadata": {},
   "source": [
    "# Model Training"
   ]
  },
  {
   "cell_type": "code",
   "execution_count": 91,
   "metadata": {},
   "outputs": [
    {
     "name": "stdout",
     "output_type": "stream",
     "text": [
      "Epoch 1/25\n",
      "1312/1313 [============================>.] - ETA: 0s - loss: 0.2079 - accuracy: 0.9379\n",
      "Epoch 1: val_accuracy improved from -inf to 0.97450, saving model to .\\bestAcc_model.h5\n",
      "1313/1313 [==============================] - 26s 19ms/step - loss: 0.2079 - accuracy: 0.9379 - val_loss: 0.0821 - val_accuracy: 0.9745\n",
      "Epoch 2/25\n",
      "   6/1313 [..............................] - ETA: 29s - loss: 0.1012 - accuracy: 0.9688"
     ]
    },
    {
     "name": "stderr",
     "output_type": "stream",
     "text": [
      "c:\\Users\\denicola\\AppData\\Local\\Programs\\Python\\Python311\\Lib\\site-packages\\keras\\src\\engine\\training.py:3000: UserWarning: You are saving your model as an HDF5 file via `model.save()`. This file format is considered legacy. We recommend using instead the native Keras format, e.g. `model.save('my_model.keras')`.\n",
      "  saving_api.save_model(\n"
     ]
    },
    {
     "name": "stdout",
     "output_type": "stream",
     "text": [
      "1311/1313 [============================>.] - ETA: 0s - loss: 0.0728 - accuracy: 0.9776\n",
      "Epoch 2: val_accuracy improved from 0.97450 to 0.98267, saving model to .\\bestAcc_model.h5\n",
      "1313/1313 [==============================] - 25s 19ms/step - loss: 0.0727 - accuracy: 0.9776 - val_loss: 0.0557 - val_accuracy: 0.9827\n",
      "Epoch 3/25\n",
      "1312/1313 [============================>.] - ETA: 0s - loss: 0.0547 - accuracy: 0.9826\n",
      "Epoch 3: val_accuracy improved from 0.98267 to 0.98406, saving model to .\\bestAcc_model.h5\n",
      "1313/1313 [==============================] - 26s 20ms/step - loss: 0.0547 - accuracy: 0.9826 - val_loss: 0.0550 - val_accuracy: 0.9841\n",
      "Epoch 4/25\n",
      "1309/1313 [============================>.] - ETA: 0s - loss: 0.0442 - accuracy: 0.9862\n",
      "Epoch 4: val_accuracy improved from 0.98406 to 0.98528, saving model to .\\bestAcc_model.h5\n",
      "1313/1313 [==============================] - 26s 20ms/step - loss: 0.0442 - accuracy: 0.9863 - val_loss: 0.0503 - val_accuracy: 0.9853\n",
      "Epoch 5/25\n",
      "1312/1313 [============================>.] - ETA: 0s - loss: 0.0361 - accuracy: 0.9886\n",
      "Epoch 5: val_accuracy did not improve from 0.98528\n",
      "1313/1313 [==============================] - 27s 21ms/step - loss: 0.0361 - accuracy: 0.9886 - val_loss: 0.0497 - val_accuracy: 0.9849\n",
      "Epoch 6/25\n",
      "1312/1313 [============================>.] - ETA: 0s - loss: 0.0328 - accuracy: 0.9888\n",
      "Epoch 6: val_accuracy improved from 0.98528 to 0.98633, saving model to .\\bestAcc_model.h5\n",
      "1313/1313 [==============================] - 28s 21ms/step - loss: 0.0328 - accuracy: 0.9888 - val_loss: 0.0435 - val_accuracy: 0.9863\n",
      "Epoch 7/25\n",
      "1312/1313 [============================>.] - ETA: 0s - loss: 0.0275 - accuracy: 0.9909\n",
      "Epoch 7: val_accuracy improved from 0.98633 to 0.98872, saving model to .\\bestAcc_model.h5\n",
      "1313/1313 [==============================] - 24s 18ms/step - loss: 0.0275 - accuracy: 0.9910 - val_loss: 0.0401 - val_accuracy: 0.9887\n",
      "Epoch 8/25\n",
      "1311/1313 [============================>.] - ETA: 0s - loss: 0.0259 - accuracy: 0.9908\n",
      "Epoch 8: val_accuracy did not improve from 0.98872\n",
      "1313/1313 [==============================] - 25s 19ms/step - loss: 0.0260 - accuracy: 0.9908 - val_loss: 0.0414 - val_accuracy: 0.9879\n",
      "Epoch 8: early stopping\n"
     ]
    }
   ],
   "source": [
    "## Model training\n",
    "his = model.fit(X_train, y_train, epochs = 25, validation_split = 0.3, callbacks = cb)"
   ]
  },
  {
   "cell_type": "code",
   "execution_count": 92,
   "metadata": {},
   "outputs": [],
   "source": [
    "model_S = keras.models.load_model(\"C://Users//denicola//Documents//Handwritten Digit Recognition//bestAcc_model.h5\")"
   ]
  },
  {
   "cell_type": "code",
   "execution_count": 93,
   "metadata": {},
   "outputs": [
    {
     "name": "stdout",
     "output_type": "stream",
     "text": [
      "313/313 [==============================] - 1s 4ms/step - loss: 0.0297 - accuracy: 0.9897\n",
      "Model accuracy: 0.9897000193595886\n"
     ]
    }
   ],
   "source": [
    "score = model_S.evaluate(X_test, y_test)\n",
    "print(f\"Model accuracy: {score[1]}\")"
   ]
  }
 ],
 "metadata": {
  "kernelspec": {
   "display_name": "Python 3",
   "language": "python",
   "name": "python3"
  },
  "language_info": {
   "codemirror_mode": {
    "name": "ipython",
    "version": 3
   },
   "file_extension": ".py",
   "mimetype": "text/x-python",
   "name": "python",
   "nbconvert_exporter": "python",
   "pygments_lexer": "ipython3",
   "version": "3.11.4"
  },
  "orig_nbformat": 4
 },
 "nbformat": 4,
 "nbformat_minor": 2
}
